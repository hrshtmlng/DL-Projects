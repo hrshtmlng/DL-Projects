{
  "nbformat": 4,
  "nbformat_minor": 0,
  "metadata": {
    "colab": {
      "provenance": [],
      "gpuType": "T4"
    },
    "kernelspec": {
      "name": "python3",
      "display_name": "Python 3"
    },
    "language_info": {
      "name": "python"
    },
    "accelerator": "GPU"
  },
  "cells": [
    {
      "cell_type": "markdown",
      "source": [
        "### Importing Necessary Libraries\n",
        "\n",
        "Starting by importing all the libraries needed for this project. This includes PyTorch for building and training the neural network, `torchvision` for datasets and image transformations, and `matplotlib` and `numpy` for data handling and visualization."
      ],
      "metadata": {
        "id": "CT-Qs8Bz41q6"
      }
    },
    {
      "cell_type": "code",
      "execution_count": 21,
      "metadata": {
        "id": "3WJkut3soaK3"
      },
      "outputs": [],
      "source": [
        "import torch\n",
        "import torch.nn as nn\n",
        "import torch.nn.functional as F\n",
        "from torchvision.datasets import EMNIST\n",
        "import torchvision.transforms as transforms\n",
        "import matplotlib.pyplot as plt\n",
        "import numpy as np"
      ]
    },
    {
      "cell_type": "markdown",
      "source": [
        "### Loading the EMNIST Dataset\n",
        "\n",
        "Here, I define a simple transformation to prepare the images (converting them to tensors). Then, I load the EMNIST dataset, specifically the 'byclass' split which contains digits and letters. The dataset is downloaded if it's not available locally. Finally, I print the total count of training samples."
      ],
      "metadata": {
        "id": "uhka8_Ea4z9T"
      }
    },
    {
      "cell_type": "code",
      "source": [
        "transform = transforms.Compose([transforms.ToTensor()])\n",
        "\n",
        "emnist_data =EMNIST(\n",
        "    root='./data',\n",
        "    split='byclass',\n",
        "    train=True,\n",
        "    download=True,\n",
        "    transform = transform\n",
        ")\n",
        "\n",
        "print(f\"Total samples: {len(emnist_data)}\")"
      ],
      "metadata": {
        "colab": {
          "base_uri": "https://localhost:8080/"
        },
        "id": "BHhOtNXNqba1",
        "outputId": "3cde9b67-57ae-4cd4-89e7-df8884ba09c2"
      },
      "execution_count": 10,
      "outputs": [
        {
          "output_type": "stream",
          "name": "stdout",
          "text": [
            "Total samples: 697932\n"
          ]
        }
      ]
    },
    {
      "cell_type": "markdown",
      "source": [
        "### Displaying Sample Images\n",
        "\n",
        "To get a visual understanding of the data, this function is created to show a few sample images from the dataset. Calling it on the EMNIST data displays some examples."
      ],
      "metadata": {
        "id": "gG44noZN50Fe"
      }
    },
    {
      "cell_type": "code",
      "source": [
        "def show_sample_images(dataset, num=6):\n",
        "  fig, axes = plt.subplots(1, num, figsize=(15,3))\n",
        "  for i in range(num):\n",
        "    image, label = dataset[i]\n",
        "    axes[i].imshow(image.squeeze(), cmap='gray')\n",
        "    axes[i].set_title(f\"Label: {label}\")\n",
        "    axes[i].axis('off')\n",
        "  plt.tight_layout()\n",
        "  plt.show()\n",
        "\n",
        "show_sample_images(emnist_data)"
      ],
      "metadata": {
        "colab": {
          "base_uri": "https://localhost:8080/",
          "height": 158
        },
        "id": "N9zKYG_hsi18",
        "outputId": "2442a9fd-4be1-4535-cf6f-46daa4120224"
      },
      "execution_count": 11,
      "outputs": [
        {
          "output_type": "display_data",
          "data": {
            "text/plain": [
              "<Figure size 1500x300 with 6 Axes>"
            ],
            "image/png": "[encoded data removed]"
          },
          "metadata": {}
        }
      ]
    },
    {
      "cell_type": "markdown",
      "source": [
        "### Defining the Autoencoder Model\n",
        "\n",
        "This section defines the structure of the autoencoder model using PyTorch.\n",
        "\n",
        "*   **Encoder:** Takes an input image, flattens it, and passes it through layers to create a compressed representation.\n",
        "*   **Decoder:** Takes the compressed representation and uses layers to reconstruct an image of the original size.\n",
        "*   The `forward` method specifies the data flow from input to output through the encoder and decoder."
      ],
      "metadata": {
        "id": "gLMj1cc456-n"
      }
    },
    {
      "cell_type": "code",
      "source": [
        "class Autoencoder(nn.Module):\n",
        "  def __init__(self):\n",
        "    super(Autoencoder, self).__init__()\n",
        "\n",
        "    # Encoder\n",
        "\n",
        "    self.encoder = nn.Sequential(\n",
        "        nn.Flatten(),\n",
        "        nn.Linear(784,256),\n",
        "        nn.ReLU(),\n",
        "        nn.Linear(256, 64),\n",
        "        nn.ReLU(),\n",
        "    )\n",
        "\n",
        "    # Decoder\n",
        "\n",
        "    self.decoder = nn.Sequential(\n",
        "        nn.Linear(64, 256),\n",
        "        nn.ReLU(),\n",
        "        nn.Linear(256, 784),\n",
        "        nn.Sigmoid(),\n",
        "        nn.Unflatten(1, (1, 28, 28))\n",
        "    )\n",
        "\n",
        "\n",
        "\n",
        "  def forward(self, x):\n",
        "    encoded = self.encoder(x)\n",
        "    decoded = self.decoder(encoded)\n",
        "    return decoded"
      ],
      "metadata": {
        "id": "R-nAGHMwuJ0I"
      },
      "execution_count": 12,
      "outputs": []
    },
    {
      "cell_type": "markdown",
      "source": [
        "### Setting Up the Data Loader\n",
        "\n",
        "A `DataLoader` is created for the EMNIST training data. This helps in efficiently processing the data in batches during training. The batch size is set to 128, and the data is shuffled for each training epoch."
      ],
      "metadata": {
        "id": "uOX9o_1m6Eu2"
      }
    },
    {
      "cell_type": "code",
      "source": [
        "from torch.utils.data import DataLoader\n",
        "\n",
        "batch_size = 128\n",
        "train_loader = DataLoader(emnist_data, batch_size=batch_size, shuffle=True)"
      ],
      "metadata": {
        "id": "sX9GTHQSwa2L"
      },
      "execution_count": 13,
      "outputs": []
    },
    {
      "cell_type": "code",
      "source": [
        "device = torch.device(\"cuda\" if torch.cuda.is_available() else \"cpu\")\n",
        "model = Autoencoder().to(device)\n",
        "criterion = nn.MSELoss()\n",
        "optimizer = torch.optim.Adam(model.parameters(), lr=1e-3)"
      ],
      "metadata": {
        "id": "XdGfQW0jwzSP"
      },
      "execution_count": 14,
      "outputs": []
    },
    {
      "cell_type": "code",
      "source": [
        "num_epochs = 5\n",
        "\n",
        "for epoch in range(num_epochs):\n",
        "  total_loss = 0\n",
        "  for images, _ in train_loader:\n",
        "    images = images.to(device)\n",
        "\n",
        "    outputs = model(images)\n",
        "    loss = criterion(outputs, images)\n",
        "\n",
        "    optimizer.zero_grad()\n",
        "    loss.backward()\n",
        "    optimizer.step()\n",
        "\n",
        "    total_loss += loss.item()\n",
        "\n",
        "print(f\"Epoch [{epoch+1}/{num_epochs}], Loss: {total_loss/len(train_loader):.4f}\")"
      ],
      "metadata": {
        "colab": {
          "base_uri": "https://localhost:8080/"
        },
        "id": "qKvwZVr5xA3l",
        "outputId": "8f72c2e8-e4f1-4c38-eb5e-bb9bd21a99c4"
      },
      "execution_count": 7,
      "outputs": [
        {
          "output_type": "stream",
          "name": "stdout",
          "text": [
            "Epoch [5/5], Loss: 0.0053\n"
          ]
        }
      ]
    },
    {
      "cell_type": "markdown",
      "source": [
        "### Visualizing Reconstructed EMNIST Images\n",
        "\n",
        "After training on EMNIST, this function visualizes how well the autoencoder can reconstruct the original images. It takes a few samples, passes them through the trained model, and displays the original image side-by-side with its reconstruction."
      ],
      "metadata": {
        "id": "nw-Xeaj26dgG"
      }
    },
    {
      "cell_type": "code",
      "source": [
        "def show_reconstructed(model, dataset, num=6):\n",
        "  model.eval()\n",
        "  images, _ = zip(*[dataset[i] for i in range(num)])\n",
        "  images = torch.stack(images).to(device)\n",
        "  with torch.no_grad():\n",
        "    outputs = model(images)\n",
        "\n",
        "  fig, axs = plt.subplots(2, num, figsize=(15,4))\n",
        "  for i in range(num):\n",
        "    axs[0][i].imshow(images[i].cpu().squeeze(),cmap='gray')\n",
        "    axs[0][i].set_title(\"Original\")\n",
        "    axs[0][i].axis('off')\n",
        "\n",
        "    axs[1][i].imshow(outputs[i].cpu().squeeze(),cmap='gray')\n",
        "    axs[1][i].set_title(\"Reconstructed\")\n",
        "    axs[1][i].axis('off')\n",
        "\n",
        "  plt.tight_layout()\n",
        "  plt.show()\n",
        "\n",
        "show_reconstructed(model, emnist_data)\n"
      ],
      "metadata": {
        "colab": {
          "base_uri": "https://localhost:8080/",
          "height": 232
        },
        "id": "r6R9KcXezynp",
        "outputId": "e6c6de87-8c37-4a98-f003-fa986df1d3b5"
      },
      "execution_count": 8,
      "outputs": [
        {
          "output_type": "display_data",
          "data": {
            "text/plain": [
              "<Figure size 1500x400 with 12 Axes>"
            ],
            "image/png": "[encoded data removed]"
          },
          "metadata": {}
        }
      ]
    },
    {
      "cell_type": "code",
      "source": [
        "from google.colab import drive, files\n",
        "uploaded = files.upload()"
      ],
      "metadata": {
        "colab": {
          "base_uri": "https://localhost:8080/",
          "height": 110
        },
        "id": "M1nOXKV7uUJk",
        "outputId": "b885932d-9721-4075-91f3-f0e4b2557b06"
      },
      "execution_count": 17,
      "outputs": [
        {
          "output_type": "display_data",
          "data": {
            "text/plain": [
              "<IPython.core.display.HTML object>"
            ],
            "text/html": [
              "\n",
              "     <input type=\"file\" id=\"files-274d7a0e-07da-4358-a1ea-f7787622228b\" name=\"files[]\" multiple disabled\n",
              "        style=\"border:none\" />\n",
              "     <output id=\"result-274d7a0e-07da-4358-a1ea-f7787622228b\">\n",
              "      Upload widget is only available when the cell has been executed in the\n",
              "      current browser session. Please rerun this cell to enable.\n",
              "      </output>\n",
              "      <script>// Copyright 2017 Google LLC\n",
              "//\n",
              "// Licensed under the Apache License, Version 2.0 (the \"License\");\n",
              "// you may not use this file except in compliance with the License.\n",
              "// You may obtain a copy of the License at\n",
              "//\n",
              "//      http://www.apache.org/licenses/LICENSE-2.0\n",
              "//\n",
              "// Unless required by applicable law or agreed to in writing, software\n",
              "// distributed under the License is distributed on an \"AS IS\" BASIS,\n",
              "// WITHOUT WARRANTIES OR CONDITIONS OF ANY KIND, either express or implied.\n",
              "// See the License for the specific language governing permissions and\n",
              "// limitations under the License.\n",
              "\n",
              "/**\n",
              " * @fileoverview Helpers for google.colab Python module.\n",
              " */\n",
              "(function(scope) {\n",
              "function span(text, styleAttributes = {}) {\n",
              "  const element = document.createElement('span');\n",
              "  element.textContent = text;\n",
              "  for (const key of Object.keys(styleAttributes)) {\n",
              "    element.style[key] = styleAttributes[key];\n",
              "  }\n",
              "  return element;\n",
              "}\n",
              "\n",
              "// Max number of bytes which will be uploaded at a time.\n",
              "const MAX_PAYLOAD_SIZE = 100 * 1024;\n",
              "\n",
              "function _uploadFiles(inputId, outputId) {\n",
              "  const steps = uploadFilesStep(inputId, outputId);\n",
              "  const outputElement = document.getElementById(outputId);\n",
              "  // Cache steps on the outputElement to make it available for the next call\n",
              "  // to uploadFilesContinue from Python.\n",
              "  outputElement.steps = steps;\n",
              "\n",
              "  return _uploadFilesContinue(outputId);\n",
              "}\n",
              "\n",
              "// This is roughly an async generator (not supported in the browser yet),\n",
              "// where there are multiple asynchronous steps and the Python side is going\n",
              "// to poll for completion of each step.\n",
              "// This uses a Promise to block the python side on completion of each step,\n",
              "// then passes the result of the previous step as the input to the next step.\n",
              "function _uploadFilesContinue(outputId) {\n",
              "  const outputElement = document.getElementById(outputId);\n",
              "  const steps = outputElement.steps;\n",
              "\n",
              "  const next = steps.next(outputElement.lastPromiseValue);\n",
              "  return Promise.resolve(next.value.promise).then((value) => {\n",
              "    // Cache the last promise value to make it available to the next\n",
              "    // step of the generator.\n",
              "    outputElement.lastPromiseValue = value;\n",
              "    return next.value.response;\n",
              "  });\n",
              "}\n",
              "\n",
              "/**\n",
              " * Generator function which is called between each async step of the upload\n",
              " * process.\n",
              " * @param {string} inputId Element ID of the input file picker element.\n",
              " * @param {string} outputId Element ID of the output display.\n",
              " * @return {!Iterable<!Object>} Iterable of next steps.\n",
              " */\n",
              "function* uploadFilesStep(inputId, outputId) {\n",
              "  const inputElement = document.getElementById(inputId);\n",
              "  inputElement.disabled = false;\n",
              "\n",
              "  const outputElement = document.getElementById(outputId);\n",
              "  outputElement.innerHTML = '';\n",
              "\n",
              "  const pickedPromise = new Promise((resolve) => {\n",
              "    inputElement.addEventListener('change', (e) => {\n",
              "      resolve(e.target.files);\n",
              "    });\n",
              "  });\n",
              "\n",
              "  const cancel = document.createElement('button');\n",
              "  inputElement.parentElement.appendChild(cancel);\n",
              "  cancel.textContent = 'Cancel upload';\n",
              "  const cancelPromise = new Promise((resolve) => {\n",
              "    cancel.onclick = () => {\n",
              "      resolve(null);\n",
              "    };\n",
              "  });\n",
              "\n",
              "  // Wait for the user to pick the files.\n",
              "  const files = yield {\n",
              "    promise: Promise.race([pickedPromise, cancelPromise]),\n",
              "    response: {\n",
              "      action: 'starting',\n",
              "    }\n",
              "  };\n",
              "\n",
              "  cancel.remove();\n",
              "\n",
              "  // Disable the input element since further picks are not allowed.\n",
              "  inputElement.disabled = true;\n",
              "\n",
              "  if (!files) {\n",
              "    return {\n",
              "      response: {\n",
              "        action: 'complete',\n",
              "      }\n",
              "    };\n",
              "  }\n",
              "\n",
              "  for (const file of files) {\n",
              "    const li = document.createElement('li');\n",
              "    li.append(span(file.name, {fontWeight: 'bold'}));\n",
              "    li.append(span(\n",
              "        `(${file.type || 'n/a'}) - ${file.size} bytes, ` +\n",
              "        `last modified: ${\n",
              "            file.lastModifiedDate ? file.lastModifiedDate.toLocaleDateString() :\n",
              "                                    'n/a'} - `));\n",
              "    const percent = span('0% done');\n",
              "    li.appendChild(percent);\n",
              "\n",
              "    outputElement.appendChild(li);\n",
              "\n",
              "    const fileDataPromise = new Promise((resolve) => {\n",
              "      const reader = new FileReader();\n",
              "      reader.onload = (e) => {\n",
              "        resolve(e.target.result);\n",
              "      };\n",
              "      reader.readAsArrayBuffer(file);\n",
              "    });\n",
              "    // Wait for the data to be ready.\n",
              "    let fileData = yield {\n",
              "      promise: fileDataPromise,\n",
              "      response: {\n",
              "        action: 'continue',\n",
              "      }\n",
              "    };\n",
              "\n",
              "    // Use a chunked sending to avoid message size limits. See b/62115660.\n",
              "    let position = 0;\n",
              "    do {\n",
              "      const length = Math.min(fileData.byteLength - position, MAX_PAYLOAD_SIZE);\n",
              "      const chunk = new Uint8Array(fileData, position, length);\n",
              "      position += length;\n",
              "\n",
              "      const base64 = btoa(String.fromCharCode.apply(null, chunk));\n",
              "      yield {\n",
              "        response: {\n",
              "          action: 'append',\n",
              "          file: file.name,\n",
              "          data: base64,\n",
              "        },\n",
              "      };\n",
              "\n",
              "      let percentDone = fileData.byteLength === 0 ?\n",
              "          100 :\n",
              "          Math.round((position / fileData.byteLength) * 100);\n",
              "      percent.textContent = `${percentDone}% done`;\n",
              "\n",
              "    } while (position < fileData.byteLength);\n",
              "  }\n",
              "\n",
              "  // All done.\n",
              "  yield {\n",
              "    response: {\n",
              "      action: 'complete',\n",
              "    }\n",
              "  };\n",
              "}\n",
              "\n",
              "scope.google = scope.google || {};\n",
              "scope.google.colab = scope.google.colab || {};\n",
              "scope.google.colab._files = {\n",
              "  _uploadFiles,\n",
              "  _uploadFilesContinue,\n",
              "};\n",
              "})(self);\n",
              "</script> "
            ]
          },
          "metadata": {}
        },
        {
          "output_type": "stream",
          "name": "stdout",
          "text": [
            "Saving WhatsApp Image 2025-06-21 at 00.26.00_84d886d6.jpg to WhatsApp Image 2025-06-21 at 00.26.00_84d886d6.jpg\n"
          ]
        }
      ]
    },
    {
      "cell_type": "code",
      "source": [
        "import cv2\n",
        "import numpy as np\n",
        "import os\n",
        "from PIL import Image"
      ],
      "metadata": {
        "id": "Wm1eKzYYvSBY"
      },
      "execution_count": 19,
      "outputs": []
    },
    {
      "cell_type": "code",
      "source": [
        "img = cv2.imread('/content/data.jpg',cv2.IMREAD_GRAYSCALE)\n",
        "img = cv2.bitwise_not(img)"
      ],
      "metadata": {
        "id": "QBiKFXXKvv7O"
      },
      "execution_count": 20,
      "outputs": []
    },
    {
      "cell_type": "markdown",
      "source": [
        "### Extracting Individual Characters\n",
        "\n",
        "This part focuses on isolating each character from the custom image. It involves applying thresholding to create a binary image, finding contours (outlines), sorting them, and then cropping and resizing each character to 28x28 pixels. The extracted characters are also saved as individual files."
      ],
      "metadata": {
        "id": "yKXCLXyz7Ac4"
      }
    },
    {
      "cell_type": "code",
      "source": [
        "_, thresh = cv2.threshold(img, 100, 255,cv2.THRESH_BINARY)\n",
        "contours,_ = cv2.findContours(thresh, cv2.RETR_EXTERNAL, cv2.CHAIN_APPROX_SIMPLE)\n",
        "\n",
        "contours = sorted(contours, key=lambda ctr: cv2.boundingRect(ctr)[0])\n",
        "\n",
        "char_images = []\n",
        "for i, cnt in enumerate(contours):\n",
        "  x, y, w, h = cv2.boundingRect(cnt)\n",
        "  char = img[y:y+h, x:x+w]\n",
        "  char = cv2.resize(char, (28, 28))\n",
        "  char_images.append(char)\n",
        "\n",
        "\n",
        "for i, char in enumerate(char_images):\n",
        "  cv2.imwrite(f\"char_{i}.png\",char)\n",
        "\n",
        "print(f\"Extracted {len(char_images)} charaters\")"
      ],
      "metadata": {
        "colab": {
          "base_uri": "https://localhost:8080/"
        },
        "id": "P94F12hwwS54",
        "outputId": "7501fb53-b59b-44ed-bcaf-301081a259cf"
      },
      "execution_count": 22,
      "outputs": [
        {
          "output_type": "stream",
          "name": "stdout",
          "text": [
            "Extracted 982 charaters\n"
          ]
        }
      ]
    },
    {
      "cell_type": "markdown",
      "source": [
        "### Creating a Custom Dataset\n",
        "\n",
        "A custom PyTorch `Dataset` class is defined to handle the extracted character images. It converts the images to tensors, adds a channel dimension, and normalizes the pixel values, making them ready for use with PyTorch's DataLoader."
      ],
      "metadata": {
        "id": "-N3HFbDu66hN"
      }
    },
    {
      "cell_type": "code",
      "source": [
        "from torch.utils.data import Dataset\n",
        "\n",
        "class CustomHandwritingDataset(Dataset):\n",
        "  def __init__(self,char_images):\n",
        "    self.images = [torch.tensor(img, dtype=torch.float32).unsqueeze(0)/255. for img in char_images]\n",
        "\n",
        "  def __len__(self):\n",
        "    return len(self.images)\n",
        "\n",
        "  def __getitem__(self, index):\n",
        "    return self.images[index], 0"
      ],
      "metadata": {
        "id": "hRbKfu8byxkc"
      },
      "execution_count": 23,
      "outputs": []
    },
    {
      "cell_type": "markdown",
      "source": [
        "### Fine-tuning on Custom Handwriting Data\n",
        "\n",
        "This section prepares the custom data for training and then fine-tunes the autoencoder on the extracted characters. A DataLoader is created for the custom dataset. **Note:** The line `model = Autoencoder().to(device)` re-initializes a new model. To continue training from the EMNIST pre-training, this line should be removed. A training loop then runs for 100 epochs to adapt the model to the specific handwriting style. The loss is printed periodically during this process."
      ],
      "metadata": {
        "id": "Toq5GsEh6x2d"
      }
    },
    {
      "cell_type": "code",
      "source": [
        "custom_dataset = CustomHandwritingDataset(char_images)\n",
        "custom_loader = DataLoader(custom_dataset, batch_size=16, shuffle=True)\n",
        "\n",
        "model = Autoencoder().to(device)\n",
        "\n",
        "for epoch in range(100):\n",
        "  for images, _ in custom_loader:\n",
        "    images = images.to(device)\n",
        "    outputs = model(images)\n",
        "    loss = criterion(outputs, images)\n",
        "\n",
        "    optimizer.zero_grad()\n",
        "    loss.backward()\n",
        "    optimizer.step()\n",
        "\n",
        "  if epoch % 10 ==0:\n",
        "    print(f\"Epoch {epoch}, Loss: {loss.item():.4f}\")\n",
        "\n",
        "\n"
      ],
      "metadata": {
        "colab": {
          "base_uri": "https://localhost:8080/"
        },
        "id": "haymtAOT0IIc",
        "outputId": "1a6d7ec3-0c57-4817-b00a-4e829c786cc2"
      },
      "execution_count": 24,
      "outputs": [
        {
          "output_type": "stream",
          "name": "stdout",
          "text": [
            "Epoch 0, Loss: 0.0107\n",
            "Epoch 10, Loss: 0.0141\n",
            "Epoch 20, Loss: 0.0106\n",
            "Epoch 30, Loss: 0.0105\n",
            "Epoch 40, Loss: 0.0109\n",
            "Epoch 50, Loss: 0.0109\n",
            "Epoch 60, Loss: 0.0112\n",
            "Epoch 70, Loss: 0.0110\n",
            "Epoch 80, Loss: 0.0125\n",
            "Epoch 90, Loss: 0.0154\n"
          ]
        }
      ]
    },
    {
      "cell_type": "markdown",
      "source": [
        "### Visualizing Reconstructed Custom Images\n",
        "\n",
        "Finally, this cell visualizes the reconstruction results using the fine-tuned autoencoder on the custom dataset. It displays the original extracted characters alongside their reconstructed versions, showing the model's performance on your handwriting."
      ],
      "metadata": {
        "id": "C99DMw9v6uJA"
      }
    },
    {
      "cell_type": "code",
      "source": [
        "show_reconstructed(model, custom_dataset)"
      ],
      "metadata": {
        "colab": {
          "base_uri": "https://localhost:8080/",
          "height": 232
        },
        "id": "mbJBIH0E1PPM",
        "outputId": "4fb1ac67-c408-46eb-f901-32e120be22da"
      },
      "execution_count": 25,
      "outputs": [
        {
          "output_type": "display_data",
          "data": {
            "text/plain": [
              "<Figure size 1500x400 with 12 Axes>"
            ],
            "image/png": "[encoded data removed]"
          },
          "metadata": {}
        }
      ]
    },
    {
      "cell_type": "code",
      "source": [],
      "metadata": {
        "id": "QufAaSox1US7"
      },
      "execution_count": null,
      "outputs": []
    }
  ]
}